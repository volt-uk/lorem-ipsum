{
 "cells": [
  {
   "cell_type": "markdown",
   "metadata": {},
   "source": [
    "# Overview\n",
    "\n",
    "Jupyter notebook to gather social media data, i.e.: facebook, twitter, and try to find how to maximise impact.\n",
    "\n",
    "# Data gathering\n",
    "\n",
    "## Requirements\n",
    "\n",
    "You need an application key to perform queries against their Standard Search API.\n",
    "\n",
    "## Twitter API\n",
    "\n",
    "Blog post about engagement api: \n",
    "\n",
    "https://blog.twitter.com/developer/en_us/topics/spotlight/2016/measuring-campaign-success-with-the-red-cross.html\n"
   ]
  },
  {
   "cell_type": "markdown",
   "metadata": {},
   "source": [
    "# Personal Authentication"
   ]
  },
  {
   "cell_type": "code",
   "execution_count": 59,
   "metadata": {},
   "outputs": [],
   "source": [
    "import base64\n",
    "import requests\n",
    "\n",
    "# DO NOT SHARE THESE KEYS\n",
    "consumer_key = 'xxxxxxxxxxxxxxxx'\n",
    "consumer_secret = 'yyyyyyyyyyyyyyyyyyyyyyyyyyyyyyyyyyyyyyyyyyyyyyyyyy'\n",
    "\n",
    "bearer_token_credentials = base64.urlsafe_b64encode(\n",
    "    '{}:{}'.format(consumer_key, consumer_secret).encode('ascii')).decode('ascii')\n",
    "url = 'https://api.twitter.com/oauth2/token'\n",
    "headers = {\n",
    "    'Authorization': 'Basic {}'.format(bearer_token_credentials),\n",
    "    'Content-Type': 'application/x-www-form-urlencoded;charset=UTF-8',\n",
    "}\n",
    "data = 'grant_type=client_credentials'\n",
    "response = requests.post(url, headers=headers, data=data)\n",
    "response_data = response.json()\n",
    "if response_data['token_type'] == 'bearer':\n",
    "    bearer_token = response_data['access_token']\n",
    "else:\n",
    "    raise RuntimeError('unexpected token type: {}'.format(response_data['token_type']))"
   ]
  },
  {
   "cell_type": "code",
   "execution_count": 60,
   "metadata": {},
   "outputs": [],
   "source": [
    "authheaders = {\n",
    "    'Authorization': 'Bearer {}'.format(bearer_token),\n",
    "    'Accept-Encoding': 'gzip',\n",
    "}"
   ]
  },
  {
   "cell_type": "markdown",
   "metadata": {},
   "source": [
    "# Standard Search API"
   ]
  },
  {
   "cell_type": "code",
   "execution_count": 61,
   "metadata": {},
   "outputs": [],
   "source": [
    "standardSearchUrl = 'https://api.twitter.com/1.1/search/tweets.json'\n",
    "\n",
    "payload = {\n",
    "    'q': 'volteuropa',\n",
    "    'result_type': 'popular'\n",
    "}\n",
    "\n",
    "response = requests.get(standardSearchUrl, headers=authheaders, params=payload)\n",
    "response_data = response.json()\n"
   ]
  },
  {
   "cell_type": "code",
   "execution_count": 62,
   "metadata": {},
   "outputs": [],
   "source": [
    "import json\n",
    "# it needs to be an absolute path\n",
    "with open('/tmp/volteuropa.json', 'w') as f:\n",
    "  json.dump(response_data, f, ensure_ascii=False)\n"
   ]
  },
  {
   "cell_type": "code",
   "execution_count": 69,
   "metadata": {},
   "outputs": [
    {
     "data": {
      "text/plain": [
       "1102232917705740288"
      ]
     },
     "execution_count": 69,
     "metadata": {},
     "output_type": "execute_result"
    }
   ],
   "source": [
    "response_data['statuses'][1]['id']#['retweet_count']"
   ]
  },
  {
   "cell_type": "code",
   "execution_count": null,
   "metadata": {},
   "outputs": [],
   "source": []
  }
 ],
 "metadata": {
  "kernelspec": {
   "display_name": "Python 3",
   "language": "python",
   "name": "python3"
  },
  "language_info": {
   "codemirror_mode": {
    "name": "ipython",
    "version": 3
   },
   "file_extension": ".py",
   "mimetype": "text/x-python",
   "name": "python",
   "nbconvert_exporter": "python",
   "pygments_lexer": "ipython3",
   "version": "3.6.8"
  }
 },
 "nbformat": 4,
 "nbformat_minor": 2
}
